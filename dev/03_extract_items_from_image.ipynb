{
 "cells": [
  {
   "metadata": {
    "ExecuteTime": {
     "end_time": "2025-10-05T16:55:36.143883Z",
     "start_time": "2025-10-05T16:55:35.339883Z"
    }
   },
   "cell_type": "code",
   "source": [
    "import os\n",
    "import json\n",
    "\n",
    "import matplotlib.pyplot as plt\n",
    "import pandas as pd\n",
    "from tqdm import tqdm\n",
    "import requests\n",
    "import json\n",
    "import random\n",
    "import base64"
   ],
   "id": "ed1cc0871aac0965",
   "outputs": [],
   "execution_count": 1
  },
  {
   "metadata": {
    "ExecuteTime": {
     "end_time": "2025-10-05T16:55:37.329498Z",
     "start_time": "2025-10-05T16:55:37.326115Z"
    }
   },
   "cell_type": "code",
   "source": [
    "def read_json_file(_path):\n",
    "    with open(_path) as json_file:\n",
    "        return json.load(json_file)"
   ],
   "id": "3ae4f801d7bfd40c",
   "outputs": [],
   "execution_count": 2
  },
  {
   "metadata": {
    "ExecuteTime": {
     "end_time": "2025-10-05T16:55:37.981439Z",
     "start_time": "2025-10-05T16:55:37.924465Z"
    }
   },
   "cell_type": "code",
   "source": "captions = read_json_file(\"./../datasets/DeepFashion/MultiModal/captions.json\")",
   "id": "45e127a7272bf221",
   "outputs": [],
   "execution_count": 3
  },
  {
   "metadata": {
    "ExecuteTime": {
     "end_time": "2025-10-05T16:55:38.497238Z",
     "start_time": "2025-10-05T16:55:38.472640Z"
    }
   },
   "cell_type": "code",
   "source": "data = [{\"id\": k, \"description\": v, \"path\": f\"./../datasets/DeepFashion/MultiModal/images/{k}\"} for k, v in captions.items()]",
   "id": "22f70f609384be3c",
   "outputs": [],
   "execution_count": 4
  },
  {
   "metadata": {
    "ExecuteTime": {
     "end_time": "2025-10-05T16:55:39.052028Z",
     "start_time": "2025-10-05T16:55:39.048577Z"
    }
   },
   "cell_type": "code",
   "source": [
    "OPENROUTER_API_KEY = \"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\"\n",
    "OPENROUTER_MODEL_NAME = \"google/gemini-2.0-flash-exp:free\""
   ],
   "id": "fa40c027ad2713b4",
   "outputs": [],
   "execution_count": 5
  },
  {
   "metadata": {
    "ExecuteTime": {
     "end_time": "2025-10-05T16:55:39.823493Z",
     "start_time": "2025-10-05T16:55:39.819534Z"
    }
   },
   "cell_type": "code",
   "source": [
    "SYSTEM_PROMPT = \"\"\"\n",
    "SYSTEM:\n",
    "You are an accurate, conservative computer-vision + fashion-attribute extractor.\n",
    "Given an image (provided as a visual input) and a short caption describing the image, your job is to detect garment items of type \"shirt\" and \"pants\" only, describe each detected garment, and return the exact JSON array described below. Be precise with bounding boxes and brief in descriptions.\n",
    "\n",
    "Important rules:\n",
    "- Output **only** valid JSON (no surrounding text, no backticks, no explanations).\n",
    "- The JSON must be a top-level array of objects. Each object must contain exactly these keys: \"type\", \"description\", \"bbox\".\n",
    "- \"type\" must be either the string \"shirt\" or \"pants\".\n",
    "- \"description\" must be a concise textual description (6–18 words) of the garment (color, pattern, sleeve length or pant cut if visible, and any other clear attribute).\n",
    "- \"bbox\" must be either:\n",
    "  - absolute pixel coordinates: `[x1, y1, x2, y2]` (integers), **if** the message includes `image_width` and `image_height` fields; OR\n",
    "  - normalized coordinates in [0.0, 1.0]: `[x1, y1, x2, y2]` (floats with 3 decimal places) **if** image dimensions are NOT provided.\n",
    "- Coordinates must follow image convention: origin (0,0) at top-left, x to right, y down, and x2>x1, y2>y1.\n",
    "- Do not invent garments not visually present. If a detected garment is ambiguous (e.g., partially occluded), include it only if you are reasonably certain. Do not output confidence fields — only items you are confident about.\n",
    "- If no shirts or pants are detected, output an empty array: `[]`.\n",
    "- Do not output duplicate or near-duplicate boxes; merge highly overlapping detections into one.\n",
    "- Keep each \"description\" factual and avoid subjective claims (e.g., don't guess brand or exact material unless obvious).\n",
    "\n",
    "You will receive:\n",
    "1) the image (attached as the visual input to the model)\n",
    "2) a short textual caption describing the image\n",
    "3) optionally: image metadata in JSON with keys: image_width (int), image_height (int)\n",
    "\n",
    "Task:\n",
    "Detect garment items of type \"shirt\" or \"pants\" visible in the image. For each detected garment return an object with:\n",
    "- \"type\": \"shirt\" or \"pants\"\n",
    "- \"description\": a concise factual description (6–18 words) including visible color, pattern, sleeve length or pant cut when discernible\n",
    "- \"bbox\": [x1, y1, x2, y2] as described in the system prompt (pixels if image_width/height provided, otherwise normalized floats with 3 decimal places)\n",
    "\n",
    "INPUT:\n",
    "Caption: \"{{caption_text}}\"\n",
    "(Optional) Image metadata JSON: {{ \"image_width\": IMAGE_WIDTH, \"image_height\": IMAGE_HEIGHT }}\n",
    "\n",
    "OUTPUT:\n",
    "Return only a JSON array like:\n",
    "[\n",
    "  {\n",
    "    \"type\": \"shirt\",\n",
    "    \"description\": \"white short-sleeve cotton t-shirt with small logo\",\n",
    "    \"bbox\": [120, 80, 420, 400]\n",
    "  },\n",
    "  {\n",
    "    \"type\": \"pants\",\n",
    "    \"description\": \"dark blue slim-fit jeans, ankle length\",\n",
    "    \"bbox\": [110, 390, 430, 920]\n",
    "  }\n",
    "]\n",
    "\n",
    "Notes:\n",
    "- If image metadata JSON is provided, produce pixel bbox integers.\n",
    "- If metadata is not provided, produce normalized coordinates (three decimals).\n",
    "- If you are unsure about sleeve length or exact color, choose the most visually plausible concise description and avoid guessing details that cannot be seen.\n",
    "\n",
    "\"\"\"\n",
    "\n",
    "USER_PROMPT = \"\"\"\n",
    "USER:\n",
    "Caption: {caption_text}\n",
    "(Optional) Image metadata JSON: {image_metadata}\n",
    "\"\"\""
   ],
   "id": "e6271d86eb90029b",
   "outputs": [],
   "execution_count": 6
  },
  {
   "metadata": {
    "ExecuteTime": {
     "end_time": "2025-10-05T16:55:40.541158Z",
     "start_time": "2025-10-05T16:55:40.536564Z"
    }
   },
   "cell_type": "code",
   "source": [
    "def get_response(system_prompt, user_text, user_image):\n",
    "    resp = requests.post(\n",
    "        url=\"https://openrouter.ai/api/v1/chat/completions\",\n",
    "        headers={\n",
    "            \"Authorization\": f\"Bearer {OPENROUTER_API_KEY}\",\n",
    "            \"Content-Type\": \"application/json\",\n",
    "        },\n",
    "        data=json.dumps({\n",
    "        \"model\": OPENROUTER_MODEL_NAME,\n",
    "        \"messages\": [\n",
    "            {\"role\": \"system\", \"content\": system_prompt},\n",
    "            {\"role\": \"user\", \"content\": [\n",
    "                {\"type\": \"text\", \"text\": user_text},\n",
    "                {\"type\": \"image_url\", \"image_url\": {\"url\": user_image}}\n",
    "            ]},\n",
    "        ],\n",
    "        \"temperature\": 0,\n",
    "        })\n",
    "    )\n",
    "\n",
    "    return resp"
   ],
   "id": "520b1f8f000b70c9",
   "outputs": [],
   "execution_count": 7
  },
  {
   "metadata": {
    "ExecuteTime": {
     "end_time": "2025-10-05T16:55:42.413725Z",
     "start_time": "2025-10-05T16:55:42.411137Z"
    }
   },
   "cell_type": "code",
   "source": "d = random.choice(data)",
   "id": "cb2625929ff0decf",
   "outputs": [],
   "execution_count": 8
  },
  {
   "metadata": {
    "collapsed": true,
    "ExecuteTime": {
     "end_time": "2025-10-05T16:55:44.015139Z",
     "start_time": "2025-10-05T16:55:43.892105Z"
    }
   },
   "cell_type": "code",
   "source": [
    "from PIL import Image\n",
    "\n",
    "img = Image.open(d[\"path\"]).convert(\"RGB\")\n",
    "img = img.resize((img.width // 10, img.height // 10))\n",
    "plt.imshow(img)\n",
    "plt.show()\n",
    "(w, h) = img.size\n",
    "img_enc = base64.b64encode(open(d[\"path\"], \"rb\").read()).decode(\"utf-8\")"
   ],
   "id": "initial_id",
   "outputs": [
    {
     "data": {
      "text/plain": [
       "<Figure size 640x480 with 1 Axes>"
      ],
      "image/png": "[encoded data removed]"
     },
     "metadata": {},
     "output_type": "display_data"
    }
   ],
   "execution_count": 9
  },
  {
   "metadata": {
    "ExecuteTime": {
     "end_time": "2025-10-04T13:32:04.242309Z",
     "start_time": "2025-10-04T13:31:59.804673Z"
    }
   },
   "cell_type": "code",
   "source": [
    "resp = get_response(\n",
    "    SYSTEM_PROMPT,\n",
    "    USER_PROMPT.format(caption_text=d[\"description\"], image_metadata={\"image_width\": w, \"image_height\": h}),\n",
    "    f\"data:image/jpeg;base64,{img_enc}\"\n",
    ")"
   ],
   "id": "da1e33691665bdbe",
   "outputs": [],
   "execution_count": 10
  },
  {
   "metadata": {
    "ExecuteTime": {
     "end_time": "2025-10-04T13:32:04.254540Z",
     "start_time": "2025-10-04T13:32:04.251297Z"
    }
   },
   "cell_type": "code",
   "source": "print(resp)",
   "id": "57bb4d950f6ea21d",
   "outputs": [
    {
     "name": "stdout",
     "output_type": "stream",
     "text": [
      "<Response [429]>\n"
     ]
    }
   ],
   "execution_count": 11
  },
  {
   "metadata": {
    "ExecuteTime": {
     "end_time": "2025-10-04T13:32:04.323852Z",
     "start_time": "2025-10-04T13:32:04.319948Z"
    }
   },
   "cell_type": "code",
   "source": "resp = resp.json()",
   "id": "e8fe0375ebd98c44",
   "outputs": [],
   "execution_count": 12
  },
  {
   "metadata": {
    "ExecuteTime": {
     "end_time": "2025-10-04T13:32:04.529999Z",
     "start_time": "2025-10-04T13:32:04.361382Z"
    }
   },
   "cell_type": "code",
   "source": "result = resp[\"choices\"][0][\"message\"][\"content\"]",
   "id": "296d0c23f4b7f7dd",
   "outputs": [
    {
     "ename": "KeyError",
     "evalue": "'choices'",
     "output_type": "error",
     "traceback": [
      "\u001B[31m---------------------------------------------------------------------------\u001B[39m",
      "\u001B[31mKeyError\u001B[39m                                  Traceback (most recent call last)",
      "\u001B[36mCell\u001B[39m\u001B[36m \u001B[39m\u001B[32mIn[13]\u001B[39m\u001B[32m, line 1\u001B[39m\n\u001B[32m----> \u001B[39m\u001B[32m1\u001B[39m result = \u001B[43mresp\u001B[49m\u001B[43m[\u001B[49m\u001B[33;43m\"\u001B[39;49m\u001B[33;43mchoices\u001B[39;49m\u001B[33;43m\"\u001B[39;49m\u001B[43m]\u001B[49m[\u001B[32m0\u001B[39m][\u001B[33m\"\u001B[39m\u001B[33mmessage\u001B[39m\u001B[33m\"\u001B[39m][\u001B[33m\"\u001B[39m\u001B[33mcontent\u001B[39m\u001B[33m\"\u001B[39m]\n",
      "\u001B[31mKeyError\u001B[39m: 'choices'"
     ]
    }
   ],
   "execution_count": 13
  },
  {
   "metadata": {},
   "cell_type": "code",
   "source": [
    "result = result.replace(\"```json\", \"\").replace(\"```\", \"\")\n",
    "result = json.loads(result)"
   ],
   "id": "f15684c66adf049e",
   "outputs": [],
   "execution_count": null
  },
  {
   "metadata": {},
   "cell_type": "code",
   "source": "result",
   "id": "7ec4565aa121fc42",
   "outputs": [],
   "execution_count": null
  },
  {
   "metadata": {},
   "cell_type": "code",
   "source": [
    "import matplotlib.pyplot as plt\n",
    "plt.imshow(img)\n",
    "for c in result:\n",
    "    bb = c[\"bbox\"]\n",
    "    plt.plot((bb[0], bb[0]), (bb[1], bb[3]))\n",
    "    plt.plot((bb[2], bb[2]), (bb[1], bb[3]))\n",
    "    plt.plot((bb[0], bb[2]), (bb[1], bb[1]))\n",
    "    plt.plot((bb[0], bb[2]), (bb[3], bb[3]))\n",
    "plt.show()"
   ],
   "id": "f93a88d8617420fc",
   "outputs": [],
   "execution_count": null
  },
  {
   "metadata": {},
   "cell_type": "code",
   "source": "",
   "id": "c2abe147998edb17",
   "outputs": [],
   "execution_count": null
  }
 ],
 "metadata": {
  "kernelspec": {
   "display_name": "Python 3",
   "language": "python",
   "name": "python3"
  },
  "language_info": {
   "codemirror_mode": {
    "name": "ipython",
    "version": 2
   },
   "file_extension": ".py",
   "mimetype": "text/x-python",
   "name": "python",
   "nbconvert_exporter": "python",
   "pygments_lexer": "ipython2",
   "version": "2.7.6"
  }
 },
 "nbformat": 4,
 "nbformat_minor": 5
}
